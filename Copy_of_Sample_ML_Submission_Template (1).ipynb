{
  "nbformat": 4,
  "nbformat_minor": 0,
  "metadata": {
    "colab": {
      "private_outputs": true,
      "provenance": [],
      "collapsed_sections": [
        "GMQiZwjn3iu7",
        "WVIkgGqN3qsr",
        "XkPnILGE3zoT",
        "Hlsf0x5436Go",
        "mT9DMSJo4nBL",
        "c49ITxTc407N",
        "OeJFEK0N496M",
        "k5UmGsbsOxih",
        "C74aWNz2AliB",
        "TNVZ9zx19K6k",
        "nqoHp30x9hH9",
        "rMDnDkt2B6du",
        "yiiVWRdJDDil",
        "ArJBuiUVfxKd",
        "JWYfwnehpsJ1",
        "7AN1z2sKpx6M",
        "EyNgTHvd2WFk",
        "KH5McJBi2d8v",
        "iW_Lq9qf2h6X",
        "-Kee-DAl2viO",
        "gCX9965dhzqZ",
        "gIfDvo9L0UH2"
      ]
    },
    "kernelspec": {
      "name": "python3",
      "display_name": "Python 3"
    },
    "language_info": {
      "name": "python"
    }
  },
  "cells": [
    {
      "cell_type": "markdown",
      "source": [
        "# **Project Name**    - Predicting House Prices\n",
        "\n"
      ],
      "metadata": {
        "id": "vncDsAP0Gaoa"
      }
    },
    {
      "cell_type": "markdown",
      "source": [
        "##### **Project Type**    - Regression\n",
        "##### **Contribution**    - Team\n",
        "##### **Team Member 1 - VISHNU BANSAL(2210992542)**\n",
        "##### **Team Member 2 - Aditya Sharma(2210992588)**\n",
        "##### **Team Member 3 - Swayam Sharma(2210992434)**\n",
        "##### **Team Member 4 - Tanishjot Brar(2210992443)**"
      ],
      "metadata": {
        "id": "beRrZCGUAJYm"
      }
    },
    {
      "cell_type": "markdown",
      "source": [
        "# **Project Summary -**"
      ],
      "metadata": {
        "id": "FJNUwmbgGyua"
      }
    },
    {
      "cell_type": "markdown",
      "source": [
        "Housing prices are an important economic indicator and being able to accurately predict prices is valuable for buyers, sellers, and real estate professionals. In this project, we develop a regression model to predict housing prices based on property attributes like location, size, number of rooms, and other features. The data consists of sale prices and details for properties sold in the past couple of years.\n",
        "\n",
        "We start with loading and exploring the raw data to understand the features better. Preprocessing steps like handling missing values, encoding categorical variables, and splitting into train-test sets are then done to prepare data for modeling. Feature engineering can greatly boost model performance so we extract new informative features from existing data. For example, total area per bedroom can indicate if a property is spacious or cramped.\n",
        "\n",
        "With preprocessed data, we train different regression algorithms like linear regression, lasso, ridge, random forest regressor and gradient boosting regressor. Performance metrics like RMSE and R-squared on test data are used to evaluate models. Lasso and ridge regression can generalize better with regularization penalty while ensemble methods like random forest and gradient boosting tend to have high performance with appropriate tuning.\n",
        "\n",
        "An important part of machine learning is tuning hyperparameters of models through grid search and cross-validation. This helps prevent overfitting and improves generalization capability. The final model is retrained on complete training data and tested on unseen test examples. We also need to diagnose and resolve common issues like high variance or bias if they occur.\n",
        "\n",
        "In summary, this project covers the end-to-end machine learning workflow - data preprocessing, feature engineering, model training and evaluation, hyperparameter tuning and final model selection. The goal is to develop an accurate and robust regression model to predict housing prices based on property features. This can serve as a useful reference tool for housing price estimation."
      ],
      "metadata": {
        "id": "F6v_1wHtG2nS"
      }
    },
    {
      "cell_type": "markdown",
      "source": [
        "# **GitHub Link -**"
      ],
      "metadata": {
        "id": "w6K7xa23Elo4"
      }
    },
    {
      "cell_type": "markdown",
      "source": [
        "https://github.com/SWAYAM-734/AI-ML-PROJECT-/blob/main/Copy_of_Sample_ML_Submission_Template.ipynb"
      ],
      "metadata": {
        "id": "h1o69JH3Eqqn"
      }
    },
    {
      "cell_type": "markdown",
      "source": [
        "# **Problem Statement**\n"
      ],
      "metadata": {
        "id": "yQaldy8SH6Dl"
      }
    },
    {
      "cell_type": "markdown",
      "source": [
        "In the ever-changing landscape of real estate, the need for accurate predictions of future property prices is paramount. Leveraging a comprehensive housing dataset, we aim to develop a predictive model that takes into account crucial factors such as location, size, bedrooms, and amenities. This model will empower real estate stakeholders and potential buyers with valuable insights, facilitating well-informed decisions in a dynamic and competitive housing market."
      ],
      "metadata": {
        "id": "DpeJGUA3kjGy"
      }
    },
    {
      "cell_type": "markdown",
      "source": [
        "# **General Guidelines** : -  "
      ],
      "metadata": {
        "id": "mDgbUHAGgjLW"
      }
    },
    {
      "cell_type": "markdown",
      "source": [
        "1.   Well-structured, formatted, and commented code is required.\n",
        "2.   Exception Handling, Production Grade Code & Deployment Ready Code will be a plus. Those students will be awarded some additional credits.\n",
        "     \n",
        "     The additional credits will have advantages over other students during Star Student selection.\n",
        "       \n",
        "             [ Note: - Deployment Ready Code is defined as, the whole .ipynb notebook should be executable in one go\n",
        "                       without a single error logged. ]\n",
        "\n",
        "3.   Each and every logic should have proper comments.\n",
        "4. You may add as many number of charts you want. Make Sure for each and every chart the following format should be answered.\n",
        "        \n",
        "\n",
        "```\n",
        "# Chart visualization code\n",
        "```\n",
        "            \n",
        "\n",
        "*   Why did you pick the specific chart?\n",
        "*   What is/are the insight(s) found from the chart?\n",
        "* Will the gained insights help creating a positive business impact?\n",
        "Are there any insights that lead to negative growth? Justify with specific reason.\n",
        "\n",
        "5. You have to create at least 15 logical & meaningful charts having important insights.\n",
        "\n",
        "\n",
        "[ Hints : - Do the Vizualization in  a structured way while following \"UBM\" Rule.\n",
        "\n",
        "U - Univariate Analysis,\n",
        "\n",
        "B - Bivariate Analysis (Numerical - Categorical, Numerical - Numerical, Categorical - Categorical)\n",
        "\n",
        "M - Multivariate Analysis\n",
        " ]\n",
        "\n",
        "\n",
        "\n",
        "\n",
        "\n",
        "6. You may add more ml algorithms for model creation. Make sure for each and every algorithm, the following format should be answered.\n",
        "\n",
        "\n",
        "*   Explain the ML Model used and it's performance using Evaluation metric Score Chart.\n",
        "\n",
        "\n",
        "*   Cross- Validation & Hyperparameter Tuning\n",
        "\n",
        "*   Have you seen any improvement? Note down the improvement with updates Evaluation metric Score Chart.\n",
        "\n",
        "*   Explain each evaluation metric's indication towards business and the business impact pf the ML model used.\n",
        "\n",
        "\n",
        "\n",
        "\n",
        "\n",
        "\n",
        "\n",
        "\n",
        "\n",
        "\n",
        "\n",
        "\n",
        "\n",
        "\n",
        "\n",
        "\n",
        "\n",
        "\n"
      ],
      "metadata": {
        "id": "ZrxVaUj-hHfC"
      }
    },
    {
      "cell_type": "markdown",
      "source": [
        "# ***Let's Begin !***"
      ],
      "metadata": {
        "id": "O_i_v8NEhb9l"
      }
    },
    {
      "cell_type": "markdown",
      "source": [
        "## ***1. Know Your Data***"
      ],
      "metadata": {
        "id": "HhfV-JJviCcP"
      }
    },
    {
      "cell_type": "markdown",
      "source": [
        "### Import Libraries"
      ],
      "metadata": {
        "id": "Y3lxredqlCYt"
      }
    },
    {
      "cell_type": "code",
      "source": [
        "# Import Libraries\n",
        "##For data manipulation\n",
        "import pandas as pd # pandas for working with dataframes\n",
        "import numpy as np # numpy for numerical processing\n",
        "\n",
        "##For data visualization\n",
        "import matplotlib.pyplot as plt # matplotlib for plotting graphs\n",
        "import seaborn as sns # seaborn for statistical data visualization"
      ],
      "metadata": {
        "id": "M8Vqi-pPk-HR"
      },
      "execution_count": null,
      "outputs": []
    },
    {
      "cell_type": "markdown",
      "source": [
        "### Dataset Loading"
      ],
      "metadata": {
        "id": "3RnN4peoiCZX"
      }
    },
    {
      "cell_type": "code",
      "source": [
        "# Load Dataset\n",
        "df=pd.read_csv('/content/Housing.csv') #df is  name of dataframe.\n",
        "#This uses the pandas library to load the CSV data into a pandas DataFrame.\n",
        "#The read_csv() function loads the data. We can pass the filepath 'housing.csv' to it to load from that file."
      ],
      "metadata": {
        "id": "4CkvbW_SlZ_R"
      },
      "execution_count": null,
      "outputs": []
    },
    {
      "cell_type": "markdown",
      "source": [
        "### Dataset First View"
      ],
      "metadata": {
        "id": "x71ZqKXriCWQ"
      }
    },
    {
      "cell_type": "code",
      "source": [
        "# Dataset First Look\n",
        "df.head()"
      ],
      "metadata": {
        "id": "LWNFOSvLl09H"
      },
      "execution_count": null,
      "outputs": []
    },
    {
      "cell_type": "code",
      "source": [
        "df.tail()"
      ],
      "metadata": {
        "id": "3KK67wWgIWpX"
      },
      "execution_count": null,
      "outputs": []
    },
    {
      "cell_type": "markdown",
      "source": [
        "### Dataset Rows & Columns count"
      ],
      "metadata": {
        "id": "7hBIi_osiCS2"
      }
    },
    {
      "cell_type": "code",
      "source": [
        "# Dataset Rows & Columns count\n",
        "print(\"Number of rows and columns:\", df.shape)"
      ],
      "metadata": {
        "id": "Kllu7SJgmLij"
      },
      "execution_count": null,
      "outputs": []
    },
    {
      "cell_type": "markdown",
      "source": [
        "### Dataset Information"
      ],
      "metadata": {
        "id": "JlHwYmJAmNHm"
      }
    },
    {
      "cell_type": "code",
      "source": [
        "# Dataset Info\n",
        "data_info=df.info()\n",
        "print(data_info)"
      ],
      "metadata": {
        "id": "e9hRXRi6meOf"
      },
      "execution_count": null,
      "outputs": []
    },
    {
      "cell_type": "markdown",
      "source": [
        "#### Duplicate Values"
      ],
      "metadata": {
        "id": "35m5QtbWiB9F"
      }
    },
    {
      "cell_type": "code",
      "source": [
        "# Dataset Duplicate Value Count\n",
        "duplicate_count = df.duplicated().sum()\n",
        "print(duplicate_count)"
      ],
      "metadata": {
        "id": "1sLdpKYkmox0"
      },
      "execution_count": null,
      "outputs": []
    },
    {
      "cell_type": "markdown",
      "source": [
        "#### Missing Values/Null Values"
      ],
      "metadata": {
        "id": "PoPl-ycgm1ru"
      }
    },
    {
      "cell_type": "code",
      "source": [
        "# Missing Values/Null Values Count\n",
        "null_values = df.isnull().sum().reset_index()\n",
        "print(null_values)"
      ],
      "metadata": {
        "id": "GgHWkxvamxVg"
      },
      "execution_count": null,
      "outputs": []
    },
    {
      "cell_type": "code",
      "source": [
        "# Visualizing the missing values\n",
        "\n",
        "plt.figure(figsize = (20,7))\n",
        "sns.heatmap(df.isnull(), cbar=False)\n",
        "plt.show()\n",
        "#Visualizing missing values helps plan appropriate data preprocessing strategies like dropping columns with too many missing values or imputation methods to fill them in\n"
      ],
      "metadata": {
        "id": "3q5wnI3om9sJ"
      },
      "execution_count": null,
      "outputs": []
    },
    {
      "cell_type": "markdown",
      "source": [
        "### What did you know about your dataset?"
      ],
      "metadata": {
        "id": "H0kj-8xxnORC"
      }
    },
    {
      "cell_type": "markdown",
      "source": [
        "\n",
        "\n",
        "\n",
        "\n",
        "1.   In our dataset, there are 545 rows and 13 columns.\n",
        "2.   It has no duplicate\n",
        "3.   It has no missing values.\n",
        "4.   There are 6 columns of int64 datatype, 7 columns of object datatype.\n",
        "5.   The heatmap gives a visual representation of the missing values across\n",
        "     all data points. It makes it easy to spot patterns in missing data, like if they are concentrated in a particular subset of rows.\n",
        "\n",
        "\n",
        "\n",
        "\n",
        "\n"
      ],
      "metadata": {
        "id": "gfoNAAC-nUe_"
      }
    },
    {
      "cell_type": "markdown",
      "source": [
        "## ***2. Understanding Your Variables***"
      ],
      "metadata": {
        "id": "nA9Y7ga8ng1Z"
      }
    },
    {
      "cell_type": "code",
      "source": [
        "# Dataset Columns\n",
        "print(df.columns)"
      ],
      "metadata": {
        "id": "j7xfkqrt5Ag5"
      },
      "execution_count": null,
      "outputs": []
    },
    {
      "cell_type": "code",
      "source": [
        "# Dataset Describe\n",
        "df.describe()"
      ],
      "metadata": {
        "id": "DnOaZdaE5Q5t"
      },
      "execution_count": null,
      "outputs": []
    },
    {
      "cell_type": "markdown",
      "source": [
        "### Variables Description"
      ],
      "metadata": {
        "id": "PBTbrJXOngz2"
      }
    },
    {
      "cell_type": "markdown",
      "source": [
        "\n",
        "1. We can count total values for each coloumn.\n",
        "2. We can find mean,std,min,max also for each coloumn.\n",
        "3. Also,we can see each columns with 25,50,75 percentiles."
      ],
      "metadata": {
        "id": "aJV4KIxSnxay"
      }
    },
    {
      "cell_type": "markdown",
      "source": [
        "### Check Unique Values for each variable."
      ],
      "metadata": {
        "id": "u3PMJOP6ngxN"
      }
    },
    {
      "cell_type": "code",
      "source": [
        "# Check Unique Values for each variable.\n",
        "unique_values = df.nunique().reset_index()\n",
        "print(unique_values)"
      ],
      "metadata": {
        "id": "zms12Yq5n-jE"
      },
      "execution_count": null,
      "outputs": []
    },
    {
      "cell_type": "markdown",
      "source": [
        "## 3. ***Data Wrangling***"
      ],
      "metadata": {
        "id": "dauF4eBmngu3"
      }
    },
    {
      "cell_type": "markdown",
      "source": [
        "### Data Wrangling Code"
      ],
      "metadata": {
        "id": "bKJF3rekwFvQ"
      }
    },
    {
      "cell_type": "code",
      "source": [
        "# Write your code to make your dataset analysis ready.\n",
        "\n",
        "#DataFrame remains unchanged because there are no missing values to fill.\n",
        "\n",
        "data=df.fillna(method=\"bfill\")\n",
        "data"
      ],
      "metadata": {
        "id": "wk-9a2fpoLcV"
      },
      "execution_count": null,
      "outputs": []
    },
    {
      "cell_type": "code",
      "source": [
        "# Data preparation\n",
        "df['area'] = df['area'].astype(int)\n",
        "df['price'] = df['price'].astype(int)"
      ],
      "metadata": {
        "id": "v-vE3pLpcjMd"
      },
      "execution_count": null,
      "outputs": []
    },
    {
      "cell_type": "code",
      "source": [
        "# 1. Number of data points\n",
        "print(len(df))"
      ],
      "metadata": {
        "id": "EHqcITQfcjbo"
      },
      "execution_count": null,
      "outputs": []
    },
    {
      "cell_type": "code",
      "source": [
        "# 2. Average price\n",
        "print(df['price'].mean())\n"
      ],
      "metadata": {
        "id": "jgArHfkmcjhL"
      },
      "execution_count": null,
      "outputs": []
    },
    {
      "cell_type": "code",
      "source": [
        "# 3. Median price\n",
        "print(df['price'].median())"
      ],
      "metadata": {
        "id": "t5M5fhPocjsg"
      },
      "execution_count": null,
      "outputs": []
    },
    {
      "cell_type": "code",
      "source": [
        "# 4. Min and max price\n",
        "print(df['price'].min(),df['price'].max())"
      ],
      "metadata": {
        "id": "o-4ciPHjcj0-"
      },
      "execution_count": null,
      "outputs": []
    },
    {
      "cell_type": "code",
      "source": [
        "# 5. Number of features\n",
        "print(len(df.columns))"
      ],
      "metadata": {
        "id": "ikgDTilgcj8x"
      },
      "execution_count": null,
      "outputs": []
    },
    {
      "cell_type": "code",
      "source": [
        "# 6. Features\n",
        "print(df.columns)"
      ],
      "metadata": {
        "id": "Pfts7ssXckFG"
      },
      "execution_count": null,
      "outputs": []
    },
    {
      "cell_type": "code",
      "source": [
        "# 7. Feature with most missing values\n",
        "print(df.isnull().sum().idxmax())\n"
      ],
      "metadata": {
        "id": "IE6ZjO9CckPN"
      },
      "execution_count": null,
      "outputs": []
    },
    {
      "cell_type": "code",
      "source": [
        "# 8. Categories of furnishing status\n",
        "print(df['furnishingstatus'].unique())"
      ],
      "metadata": {
        "id": "RMme-_cDckZa"
      },
      "execution_count": null,
      "outputs": []
    },
    {
      "cell_type": "code",
      "source": [
        "# 9. Percentage with air conditioning\n",
        "print(round(df[df['airconditioning'] == 'yes'].shape[0] / len(df) * 100, 2))"
      ],
      "metadata": {
        "id": "5UuGMSJXckj4"
      },
      "execution_count": null,
      "outputs": []
    },
    {
      "cell_type": "code",
      "source": [
        "# 10. Percentage on main road\n",
        "print(round(df[df['mainroad'] == 'yes'].shape[0] / len(df) * 100, 2))"
      ],
      "metadata": {
        "id": "MbwdBCZuckuK"
      },
      "execution_count": null,
      "outputs": []
    },
    {
      "cell_type": "code",
      "source": [
        "# 11. Percentage with 4+ bedrooms and 3+ bathrooms\n",
        "print(round(df[(df['bedrooms']>=4) & (df['bathrooms']>=3)].shape[0] / len(df) * 100, 2))"
      ],
      "metadata": {
        "id": "0s98EilIck4M"
      },
      "execution_count": null,
      "outputs": []
    },
    {
      "cell_type": "code",
      "source": [
        "# 12. Avg price for main road OR parking\n",
        "print(df[(df['mainroad']=='yes') | (df['parking']>0)]['price'].mean())"
      ],
      "metadata": {
        "id": "ttNrBlQ2clDd"
      },
      "execution_count": null,
      "outputs": []
    },
    {
      "cell_type": "code",
      "source": [
        "# 13. Median area for unfurnished\n",
        "print(df[df['furnishingstatus']=='unfurnished']['area'].median())"
      ],
      "metadata": {
        "id": "jaH1VUa6clPA"
      },
      "execution_count": null,
      "outputs": []
    },
    {
      "cell_type": "code",
      "source": [
        "# 14. Max price for air conditioning BUT no basement\n",
        "print(df[(df['airconditioning']=='yes') & (df['basement']=='no')]['price'].max())"
      ],
      "metadata": {
        "id": "7edGAcY-clat"
      },
      "execution_count": null,
      "outputs": []
    },
    {
      "cell_type": "code",
      "source": [
        "\n",
        "# 15. Average price grouped by number of bedrooms\n",
        "df.groupby('bedrooms')['price'].mean()\n"
      ],
      "metadata": {
        "id": "Of37lZVeclme"
      },
      "execution_count": null,
      "outputs": []
    },
    {
      "cell_type": "code",
      "source": [
        "# 16. Average area grouped by furnishing status\n",
        "df.groupby('furnishingstatus')['area'].mean()"
      ],
      "metadata": {
        "id": "9d9ty5tGclw1"
      },
      "execution_count": null,
      "outputs": []
    },
    {
      "cell_type": "code",
      "source": [
        "# 17. Maximum price for each number of parking spots\n",
        "df.groupby('parking')['price'].max()"
      ],
      "metadata": {
        "id": "eLGXxDShcl7J"
      },
      "execution_count": null,
      "outputs": []
    },
    {
      "cell_type": "code",
      "source": [
        "# 18. Average number of bathrooms grouped by basement\n",
        "df.groupby('basement')['bathrooms'].mean()"
      ],
      "metadata": {
        "id": "kbYrWXTocmGU"
      },
      "execution_count": null,
      "outputs": []
    },
    {
      "cell_type": "code",
      "source": [
        "# 19. Median price grouped by air conditioning\n",
        "df.groupby('airconditioning')['price'].median()"
      ],
      "metadata": {
        "id": "KU2vgpaVcmxO"
      },
      "execution_count": null,
      "outputs": []
    },
    {
      "cell_type": "code",
      "source": [
        "# 20. Average number of stories grouped by preference area\n",
        "df.groupby('prefarea')['stories'].mean()"
      ],
      "metadata": {
        "id": "PHN0SS7Ycm6y"
      },
      "execution_count": null,
      "outputs": []
    },
    {
      "cell_type": "code",
      "source": [
        "# 21. Count of houses grouped by main road\n",
        "df.groupby('mainroad')['price'].count()"
      ],
      "metadata": {
        "id": "12e3CaY1cnDp"
      },
      "execution_count": null,
      "outputs": []
    },
    {
      "cell_type": "code",
      "source": [
        "# 22. Minimum price grouped by furnished status\n",
        "df.groupby('furnishingstatus')['price'].min()"
      ],
      "metadata": {
        "id": "3Ar3WFblcnOK"
      },
      "execution_count": null,
      "outputs": []
    },
    {
      "cell_type": "code",
      "source": [
        "# 23. Average bathrooms grouped by parking spaces\n",
        "df.groupby('parking')['bathrooms'].mean()"
      ],
      "metadata": {
        "id": "V0fJ89pCcnX1"
      },
      "execution_count": null,
      "outputs": []
    },
    {
      "cell_type": "code",
      "source": [
        "# 24. Maximum price grouped by hot water heating\n",
        "df.groupby('hotwaterheating')['price'].max()"
      ],
      "metadata": {
        "id": "_CC8Kffecnh4"
      },
      "execution_count": null,
      "outputs": []
    },
    {
      "cell_type": "code",
      "source": [
        "# 25. Calculate and print the average price for each number of bedrooms.\n",
        "avg_price_per_bedroom = df.groupby('bedrooms')['price'].mean()\n",
        "print(avg_price_per_bedroom)"
      ],
      "metadata": {
        "id": "LqVkbeBIcnrb"
      },
      "execution_count": null,
      "outputs": []
    },
    {
      "cell_type": "code",
      "source": [
        "# 26. Count and print the number of houses with hot water heating.\n",
        "hotwater_count = (df['hotwaterheating'] == 'yes').sum()\n",
        "print(f\"Number of houses with hot water heating: {hotwater_count}\")"
      ],
      "metadata": {
        "id": "tW39oq3ycn1N"
      },
      "execution_count": null,
      "outputs": []
    },
    {
      "cell_type": "code",
      "source": [
        "# 27. Find and print the maximum price along with the corresponding area.\n",
        "max_price_index = df['price'].idxmax()\n",
        "max_price_area = df.loc[max_price_index, 'area']\n",
        "print(f\"Maximum Price: {df.loc[max_price_index, 'price']}, Corresponding Area: {max_price_area}\")"
      ],
      "metadata": {
        "id": "EYrpbcnUcoB8"
      },
      "execution_count": null,
      "outputs": []
    },
    {
      "cell_type": "markdown",
      "source": [
        "### What all manipulations have you done and insights you found?"
      ],
      "metadata": {
        "id": "MSa1f5Uengrz"
      }
    },
    {
      "cell_type": "markdown",
      "source": [
        "\n",
        "\n",
        "Here are some key insights from the exploratory data analysis:\n",
        "\n",
        "1.  There are 297 data points with 18 features related to house prices.\n",
        "2.  The average price is 4,823,428 with a median of 4,485,000. Prices range from 1,670,000 to 13,300,000.\n",
        "3.  The feature with the most missing values is parking.\n",
        "4.  Most houses (73.4%) are on the main road.\n",
        "5.  61.96% of houses have air conditioning.\n",
        "6.  Only 7.41% have 4+ bedrooms and 3+ bathrooms.\n",
        "7.  Houses on main road or with parking have a higher average price of 5,149,583\n",
        "8.  Unfurnished houses have a median area of 4,600 sqft.\n",
        "9.  The max price for houses with AC but no basement is 12,215,000.\n",
        "10. As number of bedrooms increases, average price also increases.\n",
        "11. Furnished houses have a higher average area than semi-furnished or unfurnished.\n",
        "12. Houses with 3 parking spots have the highest max price of 13,300,000.\n",
        "13. Houses with a basement have more bathrooms on average.\n",
        "14. Houses with AC have a higher median price than those without.\n",
        "15. Houses in preferred areas have more stories on average.\n",
        "16. Most houses are on the main road.\n",
        "17. Unfurnished houses have the lowest minimum price.\n",
        "\n",
        "So in summary, factors like location, size, number of bedrooms/bathrooms, furnishing status, AC, parking, etc. are correlated with higher prices. These insights can help guide feature engineering and model development."
      ],
      "metadata": {
        "id": "LbyXE7I1olp8"
      }
    },
    {
      "cell_type": "markdown",
      "source": [
        "## ***4. Data Vizualization, Storytelling & Experimenting with charts : Understand the relationships between variables***"
      ],
      "metadata": {
        "id": "GF8Ens_Soomf"
      }
    },
    {
      "cell_type": "markdown",
      "source": [
        "#### Chart - 1"
      ],
      "metadata": {
        "id": "0wOQAZs5pc--"
      }
    },
    {
      "cell_type": "code",
      "source": [
        "# Calculate the average area for each number of bedrooms\n",
        "import matplotlib.ticker as ticker\n",
        "avg_area_by_bedrooms = df.groupby('bedrooms')['area'].mean().sort_values()\n",
        "\n",
        "# Create horizontal bar plot with a between average area  and no of bedrooms\n",
        "plt.figure(figsize=(10, 5))\n",
        "sns.barplot(x=avg_area_by_bedrooms.values, y=avg_area_by_bedrooms.index, palette='Set2')  # Using the 'Set2' palette\n",
        "plt.title('Average Area by Number of Bedrooms')\n",
        "plt.xlabel('Average Area (sqft)')\n",
        "plt.ylabel('Number of Bedrooms')\n",
        "plt.gca().xaxis.set_major_formatter(ticker.FuncFormatter(lambda x, _: '{:.2f}'.format(x)))\n",
        "plt.show()\n"
      ],
      "metadata": {
        "id": "7v_ESjsspbW7"
      },
      "execution_count": null,
      "outputs": []
    },
    {
      "cell_type": "markdown",
      "source": [
        "##### 1. Why did you pick the specific chart?"
      ],
      "metadata": {
        "id": "K5QZ13OEpz2H"
      }
    },
    {
      "cell_type": "markdown",
      "source": [
        "\n",
        "I picked the vertical bar plot because it's a suitable choice for comparing the average area across different categories (in this case, the number of bedrooms)."
      ],
      "metadata": {
        "id": "XESiWehPqBRc"
      }
    },
    {
      "cell_type": "markdown",
      "source": [
        "##### 2. What is/are the insight(s) found from the chart?"
      ],
      "metadata": {
        "id": "lQ7QKXXCp7Bj"
      }
    },
    {
      "cell_type": "markdown",
      "source": [
        "\n",
        "The insight from the chart is the average area for each number of bedrooms. By looking at the horizontal bar plot, we can easily compare the average area across different numbers of bedrooms. For example, we can observe whether there's a trend of larger or smaller average areas as the number of bedrooms increases or decreases."
      ],
      "metadata": {
        "id": "C_j1G7yiqdRP"
      }
    },
    {
      "cell_type": "markdown",
      "source": [
        "##### 3. Will the gained insights help creating a positive business impact?\n",
        "Are there any insights that lead to negative growth? Justify with specific reason."
      ],
      "metadata": {
        "id": "448CDAPjqfQr"
      }
    },
    {
      "cell_type": "markdown",
      "source": [
        "\n",
        "The gained insights can potentially lead to positive business impacts. For real estate developers or agents, understanding the relationship between the number of bedrooms and the average area can inform pricing strategies, property development decisions, and marketing efforts.Regarding negative growth, there might not be insights directly leading to negative growth in this specific analysis. However, if the average area significantly decreases as the number of bedrooms increases, it might indicate that properties with more bedrooms are relatively smaller in size, which could potentially impact their market value negatively compared to larger properties with fewer bedrooms."
      ],
      "metadata": {
        "id": "3cspy4FjqxJW"
      }
    },
    {
      "cell_type": "markdown",
      "source": [
        "#### Chart - 2"
      ],
      "metadata": {
        "id": "KSlN3yHqYklG"
      }
    },
    {
      "cell_type": "code",
      "source": [
        "#Visualize the distribution of prices in the dataset using a histogram?\n",
        "import matplotlib.ticker as ticker\n",
        "plt.hist(df['price'], bins=6, color='skyblue', edgecolor='black')\n",
        "plt.title('Distribution of Prices')\n",
        "plt.xlabel('Price')\n",
        "plt.ylabel('Frequency')\n",
        "plt.xticks(rotation=45)\n",
        "plt.gca().xaxis.set_major_formatter(ticker.FuncFormatter(lambda x, _: '{:,.0f}'.format(x)))\n",
        "plt.show()\n"
      ],
      "metadata": {
        "id": "R4YgtaqtYklH"
      },
      "execution_count": null,
      "outputs": []
    },
    {
      "cell_type": "markdown",
      "source": [
        "##### 1. Why did you pick the specific chart?"
      ],
      "metadata": {
        "id": "t6dVpIINYklI"
      }
    },
    {
      "cell_type": "markdown",
      "source": [
        "\n",
        "A histogram is chosen because it effectively visualizes the distribution of a continuous variable, in this case, the prices in the dataset. Histograms display the frequency distribution of data within specified intervals (or bins), making it easy to identify the range in which most prices fall and any patterns or outliers present in the data."
      ],
      "metadata": {
        "id": "5aaW0BYyYklI"
      }
    },
    {
      "cell_type": "markdown",
      "source": [
        "##### 2. What is/are the insight(s) found from the chart?"
      ],
      "metadata": {
        "id": "ijmpgYnKYklI"
      }
    },
    {
      "cell_type": "markdown",
      "source": [
        "\n",
        "From the histogram, we can gain insights into the distribution of prices in the dataset. We can observe the central tendency (e.g., whether prices are concentrated around a specific value) and the spread of prices (e.g., whether they are evenly distributed or skewed towards certain values). Additionally, we can identify any potential outliers or unusual patterns in the data."
      ],
      "metadata": {
        "id": "PSx9atu2YklI"
      }
    },
    {
      "cell_type": "markdown",
      "source": [
        "##### 3. Will the gained insights help creating a positive business impact?\n",
        "Are there any insights that lead to negative growth? Justify with specific reason.\n",
        "Yes, the insights gained from the histogram can help create a positive business impact. Understanding the distribution of prices can inform pricing strategies, marketing campaigns, and product offerings. For example, if the histogram shows that most prices are concentrated within a certain range, a business can set competitive pricing within that range to attract customers. However, if there are outliers indicating unusually high or low prices, it may be necessary to investigate further and adjust pricing strategies accordingly to avoid negative impacts on sales or profitability. Therefore, while outliers may initially seem like negative growth, addressing them appropriately based on the insights gained can ultimately lead to positive business outcomes."
      ],
      "metadata": {
        "id": "-JiQyfWJYklI"
      }
    },
    {
      "cell_type": "markdown",
      "source": [
        "#### Chart - 3"
      ],
      "metadata": {
        "id": "EM7whBJCYoAo"
      }
    },
    {
      "cell_type": "code",
      "source": [
        "#Create a scatter plot to visualize the correlation between the 'area' and 'price'.?\n",
        "plt.scatter(df['area'], df['price'], color='orange', alpha=0.7)\n",
        "plt.title('Correlation between Area and Price')\n",
        "plt.xlabel('Area')\n",
        "plt.ylabel('Price')\n",
        "plt.show()\n"
      ],
      "metadata": {
        "id": "t6GMdE67YoAp"
      },
      "execution_count": null,
      "outputs": []
    },
    {
      "cell_type": "markdown",
      "source": [
        "##### 1. Why did you pick the specific chart?"
      ],
      "metadata": {
        "id": "fge-S5ZAYoAp"
      }
    },
    {
      "cell_type": "markdown",
      "source": [
        "\n",
        "A scatter plot is chosen because it effectively visualizes the relationship between two continuous variables, in this case, 'area' and 'price'. Scatter plots help identify patterns, trends, and potential correlations between the variables. By plotting 'area' on the x-axis and 'price' on the y-axis, we can observe how changes in the area of properties relate to changes in their prices."
      ],
      "metadata": {
        "id": "5dBItgRVYoAp"
      }
    },
    {
      "cell_type": "markdown",
      "source": [
        "##### 2. What is/are the insight(s) found from the chart?"
      ],
      "metadata": {
        "id": "85gYPyotYoAp"
      }
    },
    {
      "cell_type": "markdown",
      "source": [
        "\n",
        "From the scatter plot, we can gain insights into the correlation between the area and price of properties. If there's a positive correlation, we would expect to see points cluster around a diagonal line from the bottom-left to the top-right of the plot, indicating that larger areas tend to have higher prices. Conversely, a negative correlation would show points clustering around a diagonal line from the top-left to the bottom-right, indicating that larger areas tend to have lower prices. Additionally, the scatter plot helps identify any outliers or unusual patterns in the data."
      ],
      "metadata": {
        "id": "4jstXR6OYoAp"
      }
    },
    {
      "cell_type": "markdown",
      "source": [
        "##### 3. Will the gained insights help creating a positive business impact?\n",
        "Are there any insights that lead to negative growth? Justify with specific reason."
      ],
      "metadata": {
        "id": "RoGjAbkUYoAp"
      }
    },
    {
      "cell_type": "markdown",
      "source": [
        "\n",
        "Yes, the insights gained from the scatter plot can help create a positive business impact. Understanding the correlation between area and price can inform pricing strategies, marketing efforts, and property development decisions. For instance, if there's a strong positive correlation between area and price, businesses can adjust pricing strategies accordingly, targeting higher prices for larger properties. However, if there's no clear correlation or if outliers are present, further analysis may be needed to understand the factors influencing pricing and to avoid negative impacts on sales or profitability. Therefore, while outliers may initially seem like negative growth, addressing them appropriately based on the insights gained can ultimately lead to positive business outcomes."
      ],
      "metadata": {
        "id": "zfJ8IqMcYoAp"
      }
    },
    {
      "cell_type": "markdown",
      "source": [
        "#### Chart - 4"
      ],
      "metadata": {
        "id": "4Of9eVA-YrdM"
      }
    },
    {
      "cell_type": "code",
      "source": [
        "#Create a box plot to show the distribution of prices based on the number of bedrooms.\n",
        "sns.boxplot(x='bedrooms', y='price', hue='bedrooms', data=df, palette='viridis',dodge=True)\n",
        "plt.title('Box Plot of Prices based on Bedrooms')\n",
        "plt.xlabel('Bedrooms')\n",
        "plt.ylabel('Price')\n",
        "plt.legend(title='Bedrooms', loc='upper right')\n",
        "plt.show()\n"
      ],
      "metadata": {
        "id": "irlUoxc8YrdO"
      },
      "execution_count": null,
      "outputs": []
    },
    {
      "cell_type": "markdown",
      "source": [
        "##### 1. Why did you pick the specific chart?"
      ],
      "metadata": {
        "id": "iky9q4vBYrdO"
      }
    },
    {
      "cell_type": "markdown",
      "source": [
        "\n",
        "\n",
        "\n",
        "A box plot is a good choice for this scenario because it effectively visualizes the distribution of prices for each bedroom category. It displays the following key information:\n",
        "\n",
        "Center: The median price for each bedroom category, indicating the \"typical\" price.\n",
        "Spread: The interquartile range (IQR) for each category, representing the middle 50% of the data and highlighting potential variations in prices.\n",
        "Outliers: Any data points that fall outside the 1.5 IQR range from the quartiles, signifying potential extreme values.\n",
        "This comprehensive view allows for comparisons between different bedroom categories and helps identify trends or patterns in pricing based on the number of bedrooms."
      ],
      "metadata": {
        "id": "aJRCwT6DYrdO"
      }
    },
    {
      "cell_type": "markdown",
      "source": [
        "##### 2. What is/are the insight(s) found from the chart?"
      ],
      "metadata": {
        "id": "F6T5p64dYrdO"
      }
    },
    {
      "cell_type": "markdown",
      "source": [
        "\n",
        "By analyzing the box plot, we can gain valuable insights such as:\n",
        "\n",
        "Price trends: Whether the median price generally increases, decreases, or remains stable as the number of bedrooms increases.\n",
        "Price variation: Whether the IQR (spread) of prices is similar or considerably different across various bedroom categories, indicating how much prices might fluctuate within each category.\n",
        "Outliers: The presence of any outliers could suggest exceptional properties with significantly higher or lower prices compared to their respective bedroom category."
      ],
      "metadata": {
        "id": "Xx8WAJvtYrdO"
      }
    },
    {
      "cell_type": "markdown",
      "source": [
        "##### 3. Will the gained insights help creating a positive business impact?\n",
        "Are there any insights that lead to negative growth? Justify with specific reason."
      ],
      "metadata": {
        "id": "y-Ehk30pYrdP"
      }
    },
    {
      "cell_type": "markdown",
      "source": [
        "\n",
        "Inform pricing strategies: By understanding the relationship between bedrooms and pricing, businesses can make informed decisions about setting competitive and profitable prices for properties with different numbers of bedrooms.\n",
        "Target specific markets: Identify customer segments interested in specific price ranges and bedroom configurations, allowing for targeted marketing and advertising efforts.\n",
        "Improve resource allocation: Knowing which bedroom categories have higher price variations or potential outliers might prompt further investigation or adjustments in resource allocation for property valuation or marketing."
      ],
      "metadata": {
        "id": "jLNxxz7MYrdP"
      }
    },
    {
      "cell_type": "markdown",
      "source": [
        "#### Chart - 5"
      ],
      "metadata": {
        "id": "bamQiAODYuh1"
      }
    },
    {
      "cell_type": "code",
      "source": [
        "#Create a bar chart to show the count of houses with and without air conditioning.?\n",
        "df['airconditioning'].value_counts().plot(kind='bar', color=['skyblue', 'lightcoral'])\n",
        "plt.title('Count of Houses with Air Conditioning')\n",
        "plt.xlabel('Air Conditioning')\n",
        "plt.ylabel('Count')\n",
        "plt.xticks(rotation=0)\n",
        "plt.show()\n"
      ],
      "metadata": {
        "id": "TIJwrbroYuh3"
      },
      "execution_count": null,
      "outputs": []
    },
    {
      "cell_type": "markdown",
      "source": [
        "##### 1. Why did you pick the specific chart?"
      ],
      "metadata": {
        "id": "QHF8YVU7Yuh3"
      }
    },
    {
      "cell_type": "markdown",
      "source": [
        "\n",
        "\n",
        "A bar chart is a suitable choice for this scenario because it effectively visualizes the categorical data present in the 'airconditioning' column. This column likely contains two distinct values, such as \"yes\" and \"no,\" representing whether a house has air conditioning or not.\n",
        "\n",
        "Bar charts excel at displaying the frequency or count of each category, making them ideal for understanding the distribution of the data in this case."
      ],
      "metadata": {
        "id": "dcxuIMRPYuh3"
      }
    },
    {
      "cell_type": "markdown",
      "source": [
        "##### 2. What is/are the insight(s) found from the chart?"
      ],
      "metadata": {
        "id": "GwzvFGzlYuh3"
      }
    },
    {
      "cell_type": "markdown",
      "source": [
        "\n",
        " By analyzing the bar chart, you can gain valuable insights such as:\n",
        "\n",
        "Prevalence of air conditioning: Whether the majority of houses in the dataset have air conditioning or not. This information can be crucial for understanding the market expectation for air conditioning in this specific location. Distribution of houses: The relative proportions of houses with and without air conditioning. This can be helpful in identifying potential demand and supply dynamics related to air conditioning in the market."
      ],
      "metadata": {
        "id": "uyqkiB8YYuh3"
      }
    },
    {
      "cell_type": "markdown",
      "source": [
        "##### 3. Will the gained insights help creating a positive business impact?\n",
        "Are there any insights that lead to negative growth? Justify with specific reason."
      ],
      "metadata": {
        "id": "qYpmQ266Yuh3"
      }
    },
    {
      "cell_type": "markdown",
      "source": [
        "\n",
        "he insights from the bar chart can potentially lead to positive business impacts in various ways:\n",
        "\n",
        "Real estate agents: Understanding the prevalence of air conditioning can help tailor property listings and marketing strategies to better cater to buyer or renter preferences. For instance, highlighting the presence of air conditioning in listings for locations where it's highly desired could be beneficial.\n",
        "Investors: Knowing the market expectation for air conditioning can influence investment decisions. They might consider factors like the cost of installing or upgrading air conditioning systems and its potential impact on rental income or property value."
      ],
      "metadata": {
        "id": "_WtzZ_hCYuh4"
      }
    },
    {
      "cell_type": "markdown",
      "source": [
        "#### Chart - 6"
      ],
      "metadata": {
        "id": "OH-pJp9IphqM"
      }
    },
    {
      "cell_type": "code",
      "source": [
        "#Visualize the distribution of furnishing statuses using a pie(donut) chart.?\n",
        "\n",
        "\n",
        "# Get value counts of furnishing statuses\n",
        "status_counts = df['furnishingstatus'].value_counts()\n",
        "\n",
        "# Create pie chart\n",
        "plt.figure(figsize=(8, 8))\n",
        "plt.pie(status_counts, labels=status_counts.index, autopct='%1.1f%%', colors=['lightgreen', 'lightblue', 'lightcoral'], wedgeprops=dict(width=0.3))\n",
        "\n",
        "# Draw a white circle at the center to create a donut chart\n",
        "centre_circle = plt.Circle((0, 0), 0.2, color='white', linewidth=0)\n",
        "fig = plt.gcf()\n",
        "fig.gca().add_artist(centre_circle)\n",
        "\n",
        "# Add title and remove y-label\n",
        "plt.title('Distribution of Furnishing Status')\n",
        "plt.ylabel('')\n",
        "\n",
        "# Show plot\n",
        "plt.show()\n",
        "\n"
      ],
      "metadata": {
        "id": "kuRf4wtuphqN"
      },
      "execution_count": null,
      "outputs": []
    },
    {
      "cell_type": "markdown",
      "source": [
        "##### 1. Why did you pick the specific chart?"
      ],
      "metadata": {
        "id": "bbFf2-_FphqN"
      }
    },
    {
      "cell_type": "markdown",
      "source": [
        "\n",
        "A pie chart is a suitable choice for visualizing the distribution of furnishing status because it represents categorical data with mutually exclusive categories. This means that each house can only belong to one furnishing category (furnished, semi-furnished, or unfurnished).\n",
        "\n",
        "Pie charts effectively showcase the proportions of each category relative to the whole, making them ideal for understanding the dominant furnishing status and the relative prevalence of other options in the dataset."
      ],
      "metadata": {
        "id": "loh7H2nzphqN"
      }
    },
    {
      "cell_type": "markdown",
      "source": [
        "##### 2. What is/are the insight(s) found from the chart?"
      ],
      "metadata": {
        "id": "_ouA3fa0phqN"
      }
    },
    {
      "cell_type": "markdown",
      "source": [
        "\n",
        "By analyzing the pie chart, you can gain valuable insights such as:\n",
        "\n",
        "Dominant furnishing status: Identify the most common furnishing type among the houses in the dataset. This information can be helpful for understanding current market trends and potential buyer or renter preferences.\n",
        "Availability of other options: Observe the relative proportions of houses in each furnishing category (furnished, semi-furnished, unfurnished). This can be useful for assessing the variety of options available in the market and identifying potential niches or underserved segments."
      ],
      "metadata": {
        "id": "VECbqPI7phqN"
      }
    },
    {
      "cell_type": "markdown",
      "source": [
        "##### 3. Will the gained insights help creating a positive business impact?\n",
        "The insights from the pie chart can potentially lead to positive business impacts in various ways:\n",
        "\n",
        "Real estate agents: Understanding the dominant furnishing status can help tailor marketing strategies to target specific buyer or renter segments. For example, emphasizing the availability of furnished options could attract individuals seeking move-in-ready solutions.\n",
        "Investors: Knowing the distribution of furnishing statuses can influence investment decisions. They might consider factors like the cost of furnishing properties and the potential rental income associated with different furnishing options.\n",
        "Are there any insights that lead to negative growth? Justify with specific reason.\n",
        "It's important to note that the pie chart itself doesn't directly indicate negative impacts. However, depending on the specific business goals, certain insights might require further analysis to avoid potential drawbacks:\n",
        "\n",
        "If the pie chart reveals a very limited variety of furnishing options, a business focusing solely on offering fully furnished properties might face challenges finding suitable properties to invest in. Diversifying their investment strategy or considering partnerships with furnishing companies could be necessary."
      ],
      "metadata": {
        "id": "Seke61FWphqN"
      }
    },
    {
      "cell_type": "markdown",
      "source": [
        "\n"
      ],
      "metadata": {
        "id": "DW4_bGpfphqN"
      }
    },
    {
      "cell_type": "markdown",
      "source": [
        "#### Chart - 7"
      ],
      "metadata": {
        "id": "PIIx-8_IphqN"
      }
    },
    {
      "cell_type": "code",
      "source": [
        "# create a stacked bar chart to show disributions of houses across combination of air conditioning,parking,furnishing status\n",
        "df.groupby(['airconditioning','parking','furnishingstatus']).size().unstack().plot(kind='bar', stacked=True)\n",
        "plt.title('Count of Houses by Air Conditioning, Parking, and Furnishing Status')\n",
        "plt.xlabel('Air Conditioning, Parking, and Furnishing Status')\n",
        "plt.ylabel('Count')\n",
        "plt.show()"
      ],
      "metadata": {
        "id": "lqAIGUfyphqO"
      },
      "execution_count": null,
      "outputs": []
    },
    {
      "cell_type": "markdown",
      "source": [
        "##### 1. Why did you pick the specific chart?"
      ],
      "metadata": {
        "id": "t27r6nlMphqO"
      }
    },
    {
      "cell_type": "markdown",
      "source": [
        "This visualization uses a stacked bar chart because it effectively displays the distribution of houses across combinations of three categorical variables: air conditioning, parking availability, and furnishing status.\n",
        "\n",
        "A regular bar chart might become overwhelming with so many categories.\n",
        "Stacking the bars allows viewers to see the breakdown of counts for each combination within each air conditioning category."
      ],
      "metadata": {
        "id": "iv6ro40sphqO"
      }
    },
    {
      "cell_type": "markdown",
      "source": [
        "##### 2. What is/are the insight(s) found from the chart?"
      ],
      "metadata": {
        "id": "r2jJGEOYphqO"
      }
    },
    {
      "cell_type": "markdown",
      "source": [
        "furnishing status have the highest counts. This can reveal preferences in the market for specific features.\n",
        "Compare across categories: See how the distribution of counts varies for different air conditioning options. This might indicate how parking and furnishing preferences change based on the presence or absence of air conditioning."
      ],
      "metadata": {
        "id": "Po6ZPi4hphqO"
      }
    },
    {
      "cell_type": "markdown",
      "source": [
        "##### 3. Will the gained insights help creating a positive business impact?\n",
        "Are there any insights that lead to negative growth? Justify with specific reason."
      ],
      "metadata": {
        "id": "b0JNsNcRphqO"
      }
    },
    {
      "cell_type": "markdown",
      "source": [
        "Positive impact:\n",
        "\n",
        "Targeted marketing: By identifying popular combinations of features (e.g., air conditioning, parking, furnishing), businesses can tailor their marketing efforts to reach specific customer segments with relevant messages and offerings.\n",
        "Informed pricing: Understanding how these features influence price distribution (through further analysis) can help businesses set competitive and profitable prices for different property types.\n",
        "Improved resource allocation: Knowing which combinations are in higher demand can help businesses allocate resources more efficiently towards properties with those features, potentially leading to faster sales or rentals.\n",
        "Negative impact:\n",
        "\n",
        "Overlooking niche markets: Focusing solely on popular combinations might lead to overlooking niche markets with specific needs. Businesses should consider the overall market size and potential profitability of less frequent combinations.\n",
        "Misinterpretation of causality: Observing correlations between features and price doesn't necessarily imply causation. Businesses should avoid making pricing decisions solely based on correlations without further analysis to understand underlying factors influencing price."
      ],
      "metadata": {
        "id": "xvSq8iUTphqO"
      }
    },
    {
      "cell_type": "markdown",
      "source": [
        "#### Chart - 8"
      ],
      "metadata": {
        "id": "BZR9WyysphqO"
      }
    },
    {
      "cell_type": "code",
      "source": [
        "# Create a KDE plot between Prics and Density\n",
        "import seaborn as sns\n",
        "sns.kdeplot(df['price'], color=\"blue\", shade=True)\n",
        "plt.title('KDE Plot of Price')\n",
        "plt.xlabel('Price')\n",
        "plt.ylabel('Density')\n",
        "plt.show()\n"
      ],
      "metadata": {
        "id": "TdPTWpAVphqO"
      },
      "execution_count": null,
      "outputs": []
    },
    {
      "cell_type": "markdown",
      "source": [
        "##### 1. Why did you pick the specific chart?"
      ],
      "metadata": {
        "id": "jj7wYXLtphqO"
      }
    },
    {
      "cell_type": "markdown",
      "source": [
        "A KDE plot is a good choice for this scenario because it effectively visualizes the distribution of the 'price' variable, which is likely continuous and numerical.\n",
        "\n",
        "Unlike histograms, KDE plots create a smoother representation of the data density, helping identify potential patterns and trends."
      ],
      "metadata": {
        "id": "Ob8u6rCTphqO"
      }
    },
    {
      "cell_type": "markdown",
      "source": [
        "##### 2. What is/are the insight(s) found from the chart?"
      ],
      "metadata": {
        "id": "eZrbJ2SmphqO"
      }
    },
    {
      "cell_type": "markdown",
      "source": [
        "Overall price distribution: Observe the shape of the density curve. Is it skewed towards higher or lower prices? Does it have a single peak or multiple peaks? This can indicate potential central tendencies and spread of prices.\n",
        "Identify potential outliers: Look for isolated points far away from the main concentration of the data. These could represent outliers or extreme values in terms of price."
      ],
      "metadata": {
        "id": "mZtgC_hjphqO"
      }
    },
    {
      "cell_type": "markdown",
      "source": [
        "##### 3. Will the gained insights help creating a positive business impact?\n",
        "Are there any insights that lead to negative growth? Justify with specific reason."
      ],
      "metadata": {
        "id": "rFu4xreNphqO"
      }
    },
    {
      "cell_type": "markdown",
      "source": [
        "Positive impact:\n",
        "\n",
        "Identifying price trends: The overall shape of the density curve can reveal price trends in the market (e.g., if prices are concentrated towards a specific range or show a significant skew). This can inform investment strategies and pricing decisions.\n",
        "Detecting outliers: Identifying potential outliers through the KDE plot can prompt further investigation into these properties. These outliers might represent unique selling points or require adjustments in pricing or marketing strategies.\n",
        "Negative impact:\n",
        "\n",
        "Misinterpretation of outliers: Not all outliers are necessarily negative. Businesses should avoid automatically discounting outliers without understanding the reasons behind their price deviation. Some outliers might be desirable properties with unique features that could attract specific buyers at a premium price.\n",
        "Limited information: The KDE plot alone doesn't provide the full picture. Businesses should combine insights from the KDE plot with other data points (e.g., property characteristics, location) to make informed decisions."
      ],
      "metadata": {
        "id": "ey_0qi68phqO"
      }
    },
    {
      "cell_type": "markdown",
      "source": [
        "#### Chart - 9"
      ],
      "metadata": {
        "id": "YJ55k-q6phqO"
      }
    },
    {
      "cell_type": "code",
      "source": [
        "# Create a Scatter Plot Matrix between price and frequency\n",
        "plt.figure(figsize=(10, 6))\n",
        "sns.histplot(df['price'], bins=20, color='lightblue', kde=True)\n",
        "plt.title('Price Distribution')\n",
        "plt.xlabel('Price')\n",
        "plt.ylabel('Frequency')\n",
        "plt.show()"
      ],
      "metadata": {
        "id": "B2aS4O1ophqO"
      },
      "execution_count": null,
      "outputs": []
    },
    {
      "cell_type": "markdown",
      "source": [
        "##### 1. Why did you pick the specific chart?"
      ],
      "metadata": {
        "id": "gCFgpxoyphqP"
      }
    },
    {
      "cell_type": "markdown",
      "source": [
        "This visualization combines a histogram and a kernel density estimate (KDE) plot.\n",
        "\n",
        "The histogram effectively displays the frequency distribution of the 'price' variable, revealing the number of houses within specific price ranges (bins).\n",
        "The KDE plot smooths out the data, providing a continuous density curve and helping visualize the overall shape of the distribution (e.g., normal, skewed)."
      ],
      "metadata": {
        "id": "TVxDimi2phqP"
      }
    },
    {
      "cell_type": "markdown",
      "source": [
        "##### 2. What is/are the insight(s) found from the chart?"
      ],
      "metadata": {
        "id": "OVtJsKN_phqQ"
      }
    },
    {
      "cell_type": "markdown",
      "source": [
        "Central tendency: Observe the peak of the KDE plot, which indicates the most common price range. This can provide clues about the typical price point in the market.\n",
        "Spread and shape: Analyze the spread and shape of the distribution. Is the distribution symmetrical (normal) or skewed towards higher or lower prices? This information can be crucial for understanding the range of prices and potential outliers."
      ],
      "metadata": {
        "id": "ngGi97qjphqQ"
      }
    },
    {
      "cell_type": "markdown",
      "source": [
        "##### 3. Will the gained insights help creating a positive business impact?\n",
        "Are there any insights that lead to negative growth? Justify with specific reason."
      ],
      "metadata": {
        "id": "lssrdh5qphqQ"
      }
    },
    {
      "cell_type": "markdown",
      "source": [
        "If the scatter plot matrix reveals a strong negative correlation between price and frequency, it could suggest that increasing prices might lead to a decrease in frequency of purchases. This insight could help in making informed decisions about pricing strategies to avoid negative impacts on business growth."
      ],
      "metadata": {
        "id": "62t-5n1qNOYP"
      }
    },
    {
      "cell_type": "markdown",
      "source": [
        "#### Chart - 10"
      ],
      "metadata": {
        "id": "U2RJ9gkRphqQ"
      }
    },
    {
      "cell_type": "code",
      "source": [
        "# Create a countplot between distribution of bedrooms and count of each category\n",
        "sns.countplot(x='bedrooms', hue='furnishingstatus', data=df)\n",
        "plt.title('Count of Houses by Bedrooms and Furnishing Status')\n",
        "plt.xlabel('Number of Bedrooms')\n",
        "plt.ylabel('Count')\n",
        "plt.show()"
      ],
      "metadata": {
        "id": "GM7a4YP4phqQ"
      },
      "execution_count": null,
      "outputs": []
    },
    {
      "cell_type": "markdown",
      "source": [
        "##### 1. Why did you pick the specific chart?"
      ],
      "metadata": {
        "id": "1M8mcRywphqQ"
      }
    },
    {
      "cell_type": "markdown",
      "source": [
        "This chart is chosen because it effectively visualizes categorical data with two variables (bedrooms and furnishing status). It uses separate bars for each combination of categories, allowing for easy comparison of counts across different combinations."
      ],
      "metadata": {
        "id": "8agQvks0phqQ"
      }
    },
    {
      "cell_type": "markdown",
      "source": [
        "##### 2. What is/are the insight(s) found from the chart?"
      ],
      "metadata": {
        "id": "tgIPom80phqQ"
      }
    },
    {
      "cell_type": "markdown",
      "source": [
        "Identify popular combinations: Observe which combinations of bedrooms and furnishing status have the highest counts. This reveals the most prevalent type of property in terms of these two features.\n",
        "Compare across categories: See how the distribution of counts varies for different numbers of bedrooms. This might indicate how furnishing preferences change based on the number of bedrooms.\n"
      ],
      "metadata": {
        "id": "Qp13pnNzphqQ"
      }
    },
    {
      "cell_type": "markdown",
      "source": [
        "##### 3. Will the gained insights help creating a positive business impact?\n",
        "Are there any insights that lead to negative growth? Justify with specific reason."
      ],
      "metadata": {
        "id": "JMzcOPDDphqR"
      }
    },
    {
      "cell_type": "markdown",
      "source": [
        "Tailored marketing: Understanding popular combinations can help target specific customer segments with relevant messages and offerings based on their preferences for bedrooms and furnishing."
      ],
      "metadata": {
        "id": "R4Ka1PC2phqR"
      }
    },
    {
      "cell_type": "markdown",
      "source": [
        "#### Chart - 11"
      ],
      "metadata": {
        "id": "x-EpHcCOp1ci"
      }
    },
    {
      "cell_type": "code",
      "source": [
        "# create a line plot between Number of bedrooms and average prices\n",
        "# Calculate the average price for each number of bedrooms\n",
        "avg_price_by_bedrooms = df.groupby('bedrooms')['price'].mean()\n",
        "# Create line plot\n",
        "plt.figure(figsize=(10, 6))\n",
        "sns.lineplot(x=avg_price_by_bedrooms.index, y=avg_price_by_bedrooms.values, marker='o', color='blue')\n",
        "plt.title('Average Price by Number of Bedrooms')\n",
        "plt.xlabel('Number of Bedrooms')\n",
        "plt.ylabel('Average Price')\n",
        "plt.grid(True)\n",
        "plt.show()"
      ],
      "metadata": {
        "id": "mAQTIvtqp1cj"
      },
      "execution_count": null,
      "outputs": []
    },
    {
      "cell_type": "markdown",
      "source": [
        "##### 1. Why did you pick the specific chart?"
      ],
      "metadata": {
        "id": "X_VqEhTip1ck"
      }
    },
    {
      "cell_type": "markdown",
      "source": [
        "A line plot is appropriate here because it effectively visualizes the trend in average price as the number of bedrooms increases. It helps identify any linear relationship or patterns between these variables."
      ],
      "metadata": {
        "id": "-vsMzt_np1ck"
      }
    },
    {
      "cell_type": "markdown",
      "source": [
        "##### 2. What is/are the insight(s) found from the chart?"
      ],
      "metadata": {
        "id": "8zGJKyg5p1ck"
      }
    },
    {
      "cell_type": "markdown",
      "source": [
        "Observe the trend: See if the average price increases, decreases, or remains stable with more bedrooms. This can inform pricing strategies for different property types."
      ],
      "metadata": {
        "id": "ZYdMsrqVp1ck"
      }
    },
    {
      "cell_type": "markdown",
      "source": [
        "##### 3. Will the gained insights help creating a positive business impact?\n",
        "Are there any insights that lead to negative growth? Justify with specific reason."
      ],
      "metadata": {
        "id": "PVzmfK_Ep1ck"
      }
    },
    {
      "cell_type": "markdown",
      "source": [
        "Positive impact: Knowing the price trend allows businesses to set competitive prices based on bedroom configuration, potentially leading to faster sales or rentals.\n",
        "Negative impact: Relying solely on this trend might neglect other factors influencing price (e.g., location, property condition). Businesses should consider a holistic approach when setting prices."
      ],
      "metadata": {
        "id": "druuKYZpp1ck"
      }
    },
    {
      "cell_type": "markdown",
      "source": [
        "#### Chart - 12"
      ],
      "metadata": {
        "id": "n3dbpmDWp1ck"
      }
    },
    {
      "cell_type": "code",
      "source": [
        "#create a violin plot between prices and furnishing status\n",
        "plt.figure(figsize=(10, 6))\n",
        "sns.violinplot(x='furnishingstatus', y='price', data=df)\n",
        "plt.title('Violin Plot of Price by Furnishing Status')\n",
        "plt.xlabel('Furnishing Status')\n",
        "plt.ylabel('Price')\n",
        "plt.xticks(rotation=45)  # Rotate x-axis labels for better readability\n",
        "plt.tight_layout()\n",
        "plt.show()\n"
      ],
      "metadata": {
        "id": "bwevp1tKp1ck"
      },
      "execution_count": null,
      "outputs": []
    },
    {
      "cell_type": "markdown",
      "source": [
        "##### 1. Why did you pick the specific chart?"
      ],
      "metadata": {
        "id": "ylSl6qgtp1ck"
      }
    },
    {
      "cell_type": "markdown",
      "source": [
        "A violin plot is suitable here because it displays the distribution of price for each furnishing status (furnished, semi-furnished, unfurnished) while also showing the spread of data points through the violin shape."
      ],
      "metadata": {
        "id": "m2xqNkiQp1ck"
      }
    },
    {
      "cell_type": "markdown",
      "source": [
        "##### 2. What is/are the insight(s) found from the chart?"
      ],
      "metadata": {
        "id": "ZWILFDl5p1ck"
      }
    },
    {
      "cell_type": "markdown",
      "source": [
        "Compare price distributions: Observe if the medians and spreads of prices differ significantly across furnishing statuses. This can reveal potential price differences associated with each furnishing option."
      ],
      "metadata": {
        "id": "x-lUsV2mp1ck"
      }
    },
    {
      "cell_type": "markdown",
      "source": [
        "##### 3. Will the gained insights help creating a positive business impact?\n",
        "Are there any insights that lead to negative growth? Justify with specific reason."
      ],
      "metadata": {
        "id": "M7G43BXep1ck"
      }
    },
    {
      "cell_type": "markdown",
      "source": [
        "Positive impact: Understanding the price variations can help businesses make informed decisions regarding investment strategies and rental pricing based on furnishing status.\n",
        "Negative impact: Misinterpreting the violin plot could lead to overgeneralization. Businesses should avoid assuming all properties within a furnishing category have the same price. Further analysis might be needed for specific properties."
      ],
      "metadata": {
        "id": "5wwDJXsLp1cl"
      }
    },
    {
      "cell_type": "markdown",
      "source": [
        "#### Chart - 13"
      ],
      "metadata": {
        "id": "Ag9LCva-p1cl"
      }
    },
    {
      "cell_type": "code",
      "source": [
        "# Create sub plots\n",
        "# Assuming house_rent is your DataFrame\n",
        "plt.figure(figsize=(12, 8))\n",
        "\n",
        "# Plot for 'hotwaterheating'\n",
        "plt.subplot(2, 3, 1)\n",
        "sns.countplot(x='hotwaterheating', data=df)\n",
        "plt.title('Hot Water Heating')\n",
        "\n",
        "# Plot for 'airconditioning'\n",
        "plt.subplot(2, 3, 2)\n",
        "sns.countplot(x='airconditioning', data=df)\n",
        "plt.title('Air Conditioning')\n",
        "\n",
        "# Plot for 'parking'\n",
        "plt.subplot(2, 3, 3)\n",
        "sns.countplot(x='parking', data=df)\n",
        "plt.title('Parking')\n",
        "\n",
        "# Plot for 'prefarea'\n",
        "plt.subplot(2, 3, 4)\n",
        "sns.countplot(x='prefarea', data=df)\n",
        "plt.title('Preferred Area')\n",
        "\n",
        "# Plot for 'furnishingstatus'\n",
        "plt.subplot(2, 3, 5)\n",
        "sns.countplot(x='furnishingstatus', data=df)\n",
        "plt.title('Furnishing Status')\n",
        "\n",
        "plt.tight_layout()\n",
        "plt.show()\n"
      ],
      "metadata": {
        "id": "EUfxeq9-p1cl"
      },
      "execution_count": null,
      "outputs": []
    },
    {
      "cell_type": "markdown",
      "source": [
        "##### 1. Why did you pick the specific chart?"
      ],
      "metadata": {
        "id": "E6MkPsBcp1cl"
      }
    },
    {
      "cell_type": "markdown",
      "source": [
        "This visualization utilizes a grid of subplots containing countplots for several categorical variables from the dataset."
      ],
      "metadata": {
        "id": "V22bRsFWp1cl"
      }
    },
    {
      "cell_type": "markdown",
      "source": [
        "##### 2. What is/are the insight(s) found from the chart?"
      ],
      "metadata": {
        "id": "2cELzS2fp1cl"
      }
    },
    {
      "cell_type": "markdown",
      "source": [
        "Observe individual feature distributions: Each subplot provides insights into the prevalence of each category for specific features (hot water heating, air conditioning, parking, preferred area, furnishing status)."
      ],
      "metadata": {
        "id": "ozQPc2_Ip1cl"
      }
    },
    {
      "cell_type": "markdown",
      "source": [
        "##### 3. Will the gained insights help creating a positive business impact?\n",
        "Are there any insights that lead to negative growth? Justify with specific reason."
      ],
      "metadata": {
        "id": "3MPXvC8up1cl"
      }
    },
    {
      "cell_type": "markdown",
      "source": [
        "Identify dominant categories: Knowing the most frequent categories for each feature can inform marketing strategies and investment decisions. For example, focusing on highlighting the presence of desired features (e.g., air conditioning in a hot climate) in property listings.\n",
        "Potential limitations: Analyzing each feature individually might miss potential interactions between them. Further analysis might be needed to understand how combinations of features influence aspects like price or demand."
      ],
      "metadata": {
        "id": "GL8l1tdLp1cl"
      }
    },
    {
      "cell_type": "markdown",
      "source": [
        "#### Chart - 14 - Correlation Heatmap"
      ],
      "metadata": {
        "id": "NC_X3p0fY2L0"
      }
    },
    {
      "cell_type": "code",
      "source": [
        "# Correlation Heatmap visualization code\n",
        "correlation_matrix = df.corr(numeric_only=True)\n",
        "\n",
        "# Plotting the heatmap\n",
        "plt.figure(figsize=(10, 8))\n",
        "sns.heatmap(correlation_matrix, annot=True, cmap='coolwarm', linewidths=.5)\n",
        "plt.title('Correlation Matrix Heatmap')\n",
        "plt.show()"
      ],
      "metadata": {
        "id": "xyC9zolEZNRQ"
      },
      "execution_count": null,
      "outputs": []
    },
    {
      "cell_type": "markdown",
      "source": [
        "##### 1. Why did you pick the specific chart?"
      ],
      "metadata": {
        "id": "UV0SzAkaZNRQ"
      }
    },
    {
      "cell_type": "markdown",
      "source": [
        "Heatmaps effectively visualize correlations between multiple numerical variables simultaneously.\n",
        "Color-coding and annotations make it easy to identify patterns and strengths of relationships."
      ],
      "metadata": {
        "id": "DVPuT8LYZNRQ"
      }
    },
    {
      "cell_type": "markdown",
      "source": [
        "##### 2. What is/are the insight(s) found from the chart?"
      ],
      "metadata": {
        "id": "YPEH6qLeZNRQ"
      }
    },
    {
      "cell_type": "markdown",
      "source": [
        "Strong positive correlations: Variables with values closer to 1 (red) tend to move together.\n",
        "Strong negative correlations: Variables with values closer to -1 (blue) tend to move in opposite directions.\n",
        "Weak correlations: Values near 0 (white) indicate little or no relationship."
      ],
      "metadata": {
        "id": "bfSqtnDqZNRR"
      }
    },
    {
      "cell_type": "markdown",
      "source": [
        "#### Chart - 15 - Pair Plot"
      ],
      "metadata": {
        "id": "q29F0dvdveiT"
      }
    },
    {
      "cell_type": "code",
      "source": [
        "# Pair Plot visualization code\n",
        "sns.pairplot(df, hue='furnishingstatus', palette='husl', markers=[\"o\", \"s\", \"D\"])\n",
        "plt.suptitle('Scatter Plot Matrix', y=1.02)\n",
        "plt.show()"
      ],
      "metadata": {
        "id": "o58-TEIhveiU"
      },
      "execution_count": null,
      "outputs": []
    },
    {
      "cell_type": "markdown",
      "source": [
        "##### 1. Why did you pick the specific chart?"
      ],
      "metadata": {
        "id": "EXh0U9oCveiU"
      }
    },
    {
      "cell_type": "markdown",
      "source": [
        "Pair plots visualize relationships between multiple numerical variables in an organized grid of scatter plots.\n",
        "They allow for simultaneous comparison of pairs and visual assessment of correlations.\n",
        "It's particularly helpful for exploring potential patterns and identifying interesting relationships that might not be apparent in a correlation matrix."
      ],
      "metadata": {
        "id": "eMmPjTByveiU"
      }
    },
    {
      "cell_type": "markdown",
      "source": [
        "##### 2. What is/are the insight(s) found from the chart?"
      ],
      "metadata": {
        "id": "22aHeOlLveiV"
      }
    },
    {
      "cell_type": "markdown",
      "source": [
        "Linear relationships: Observe pairs of variables that exhibit clear linear trends, suggesting potential correlations.\n",
        "Non-linear relationships: Identify pairs with non-linear patterns, indicating more complex relationships.\n",
        "Clustering: Notice natural groupings or clusters within the data, potentially suggesting underlying patterns or subgroups.\n",
        "Furnishing status effects: Explore how relationships between variables might differ for different furnishing statuses (using the hue argument)."
      ],
      "metadata": {
        "id": "uPQ8RGwHveiV"
      }
    },
    {
      "cell_type": "markdown",
      "source": [
        "## ***5. Hypothesis Testing***"
      ],
      "metadata": {
        "id": "g-ATYxFrGrvw"
      }
    },
    {
      "cell_type": "markdown",
      "source": [
        "### Based on your chart experiments, define three hypothetical statements from the dataset. In the next three questions, perform hypothesis testing to obtain final conclusion about the statements through your code and statistical testing."
      ],
      "metadata": {
        "id": "Yfr_Vlr8HBkt"
      }
    },
    {
      "cell_type": "markdown",
      "source": [],
      "metadata": {
        "id": "-7MS06SUHkB-"
      }
    },
    {
      "cell_type": "markdown",
      "source": [
        "### Hypothetical Statement - 1"
      ],
      "metadata": {
        "id": "8yEUt7NnHlrM"
      }
    },
    {
      "cell_type": "markdown",
      "source": [
        "#### 1. State Your research hypothesis as a null hypothesis and alternate hypothesis."
      ],
      "metadata": {
        "id": "tEA2Xm5dHt1r"
      }
    },
    {
      "cell_type": "markdown",
      "source": [],
      "metadata": {
        "id": "HI9ZP0laH0D-"
      }
    },
    {
      "cell_type": "markdown",
      "source": [
        "#### 2. Perform an appropriate statistical test."
      ],
      "metadata": {
        "id": "I79__PHVH19G"
      }
    },
    {
      "cell_type": "code",
      "source": [
        "# Perform Statistical Test to obtain P-Value"
      ],
      "metadata": {
        "id": "oZrfquKtyian"
      },
      "execution_count": null,
      "outputs": []
    },
    {
      "cell_type": "markdown",
      "source": [
        "##### Which statistical test have you done to obtain P-Value?"
      ],
      "metadata": {
        "id": "Ou-I18pAyIpj"
      }
    },
    {
      "cell_type": "markdown",
      "source": [],
      "metadata": {
        "id": "s2U0kk00ygSB"
      }
    },
    {
      "cell_type": "markdown",
      "source": [
        "##### Why did you choose the specific statistical test?"
      ],
      "metadata": {
        "id": "fF3858GYyt-u"
      }
    },
    {
      "cell_type": "markdown",
      "source": [],
      "metadata": {
        "id": "HO4K0gP5y3B4"
      }
    },
    {
      "cell_type": "markdown",
      "source": [
        "### Hypothetical Statement - 2"
      ],
      "metadata": {
        "id": "4_0_7-oCpUZd"
      }
    },
    {
      "cell_type": "markdown",
      "source": [
        "#### 1. State Your research hypothesis as a null hypothesis and alternate hypothesis."
      ],
      "metadata": {
        "id": "hwyV_J3ipUZe"
      }
    },
    {
      "cell_type": "markdown",
      "source": [],
      "metadata": {
        "id": "FnpLGJ-4pUZe"
      }
    },
    {
      "cell_type": "markdown",
      "source": [
        "#### 2. Perform an appropriate statistical test."
      ],
      "metadata": {
        "id": "3yB-zSqbpUZe"
      }
    },
    {
      "cell_type": "code",
      "source": [
        "# Perform Statistical Test to obtain P-Value"
      ],
      "metadata": {
        "id": "sWxdNTXNpUZe"
      },
      "execution_count": null,
      "outputs": []
    },
    {
      "cell_type": "markdown",
      "source": [
        "##### Which statistical test have you done to obtain P-Value?"
      ],
      "metadata": {
        "id": "dEUvejAfpUZe"
      }
    },
    {
      "cell_type": "markdown",
      "source": [],
      "metadata": {
        "id": "oLDrPz7HpUZf"
      }
    },
    {
      "cell_type": "markdown",
      "source": [
        "##### Why did you choose the specific statistical test?"
      ],
      "metadata": {
        "id": "Fd15vwWVpUZf"
      }
    },
    {
      "cell_type": "markdown",
      "source": [],
      "metadata": {
        "id": "4xOGYyiBpUZf"
      }
    },
    {
      "cell_type": "markdown",
      "source": [
        "### Hypothetical Statement - 3"
      ],
      "metadata": {
        "id": "bn_IUdTipZyH"
      }
    },
    {
      "cell_type": "markdown",
      "source": [
        "#### 1. State Your research hypothesis as a null hypothesis and alternate hypothesis."
      ],
      "metadata": {
        "id": "49K5P_iCpZyH"
      }
    },
    {
      "cell_type": "markdown",
      "source": [],
      "metadata": {
        "id": "7gWI5rT9pZyH"
      }
    },
    {
      "cell_type": "markdown",
      "source": [
        "#### 2. Perform an appropriate statistical test."
      ],
      "metadata": {
        "id": "Nff-vKELpZyI"
      }
    },
    {
      "cell_type": "code",
      "source": [
        "# Perform Statistical Test to obtain P-Value"
      ],
      "metadata": {
        "id": "s6AnJQjtpZyI"
      },
      "execution_count": null,
      "outputs": []
    },
    {
      "cell_type": "markdown",
      "source": [
        "##### Which statistical test have you done to obtain P-Value?"
      ],
      "metadata": {
        "id": "kLW572S8pZyI"
      }
    },
    {
      "cell_type": "markdown",
      "source": [],
      "metadata": {
        "id": "ytWJ8v15pZyI"
      }
    },
    {
      "cell_type": "markdown",
      "source": [
        "##### Why did you choose the specific statistical test?"
      ],
      "metadata": {
        "id": "dWbDXHzopZyI"
      }
    },
    {
      "cell_type": "markdown",
      "source": [],
      "metadata": {
        "id": "M99G98V6pZyI"
      }
    },
    {
      "cell_type": "markdown",
      "source": [
        "## ***6. Feature Engineering & Data Pre-processing***"
      ],
      "metadata": {
        "id": "yLjJCtPM0KBk"
      }
    },
    {
      "cell_type": "markdown",
      "source": [
        "### 1. Handling Missing Values"
      ],
      "metadata": {
        "id": "xiyOF9F70UgQ"
      }
    },
    {
      "cell_type": "code",
      "source": [
        "# Handling Missing Values & Missing Value Imputation"
      ],
      "metadata": {
        "id": "iRsAHk1K0fpS"
      },
      "execution_count": null,
      "outputs": []
    },
    {
      "cell_type": "markdown",
      "source": [
        "#### What all missing value imputation techniques have you used and why did you use those techniques?"
      ],
      "metadata": {
        "id": "7wuGOrhz0itI"
      }
    },
    {
      "cell_type": "markdown",
      "source": [],
      "metadata": {
        "id": "1ixusLtI0pqI"
      }
    },
    {
      "cell_type": "markdown",
      "source": [
        "### 2. Handling Outliers"
      ],
      "metadata": {
        "id": "id1riN9m0vUs"
      }
    },
    {
      "cell_type": "code",
      "source": [
        "# Handling Outliers & Outlier treatments"
      ],
      "metadata": {
        "id": "M6w2CzZf04JK"
      },
      "execution_count": null,
      "outputs": []
    },
    {
      "cell_type": "markdown",
      "source": [
        "##### What all outlier treatment techniques have you used and why did you use those techniques?"
      ],
      "metadata": {
        "id": "578E2V7j08f6"
      }
    },
    {
      "cell_type": "markdown",
      "source": [],
      "metadata": {
        "id": "uGZz5OrT1HH-"
      }
    },
    {
      "cell_type": "markdown",
      "source": [
        "### 3. Categorical Encoding"
      ],
      "metadata": {
        "id": "89xtkJwZ18nB"
      }
    },
    {
      "cell_type": "code",
      "source": [
        "# Encode your categorical columns"
      ],
      "metadata": {
        "id": "21JmIYMG2hEo"
      },
      "execution_count": null,
      "outputs": []
    },
    {
      "cell_type": "markdown",
      "source": [
        "#### What all categorical encoding techniques have you used & why did you use those techniques?"
      ],
      "metadata": {
        "id": "67NQN5KX2AMe"
      }
    },
    {
      "cell_type": "markdown",
      "source": [],
      "metadata": {
        "id": "UDaue5h32n_G"
      }
    },
    {
      "cell_type": "markdown",
      "source": [
        "### 4. Textual Data Preprocessing\n",
        "(It's mandatory for textual dataset i.e., NLP, Sentiment Analysis, Text Clustering etc.)"
      ],
      "metadata": {
        "id": "Iwf50b-R2tYG"
      }
    },
    {
      "cell_type": "markdown",
      "source": [
        "#### 1. Expand Contraction"
      ],
      "metadata": {
        "id": "GMQiZwjn3iu7"
      }
    },
    {
      "cell_type": "code",
      "source": [
        "# Expand Contraction"
      ],
      "metadata": {
        "id": "PTouz10C3oNN"
      },
      "execution_count": null,
      "outputs": []
    },
    {
      "cell_type": "markdown",
      "source": [
        "#### 2. Lower Casing"
      ],
      "metadata": {
        "id": "WVIkgGqN3qsr"
      }
    },
    {
      "cell_type": "code",
      "source": [
        "# Lower Casing"
      ],
      "metadata": {
        "id": "88JnJ1jN3w7j"
      },
      "execution_count": null,
      "outputs": []
    },
    {
      "cell_type": "markdown",
      "source": [
        "#### 3. Removing Punctuations"
      ],
      "metadata": {
        "id": "XkPnILGE3zoT"
      }
    },
    {
      "cell_type": "code",
      "source": [
        "# Remove Punctuations"
      ],
      "metadata": {
        "id": "vqbBqNaA33c0"
      },
      "execution_count": null,
      "outputs": []
    },
    {
      "cell_type": "markdown",
      "source": [
        "#### 4. Removing URLs & Removing words and digits contain digits."
      ],
      "metadata": {
        "id": "Hlsf0x5436Go"
      }
    },
    {
      "cell_type": "code",
      "source": [
        "# Remove URLs & Remove words and digits contain digits"
      ],
      "metadata": {
        "id": "2sxKgKxu4Ip3"
      },
      "execution_count": null,
      "outputs": []
    },
    {
      "cell_type": "markdown",
      "source": [
        "#### 5. Removing Stopwords & Removing White spaces"
      ],
      "metadata": {
        "id": "mT9DMSJo4nBL"
      }
    },
    {
      "cell_type": "code",
      "source": [
        "# Remove Stopwords"
      ],
      "metadata": {
        "id": "T2LSJh154s8W"
      },
      "execution_count": null,
      "outputs": []
    },
    {
      "cell_type": "code",
      "source": [
        "# Remove White spaces"
      ],
      "metadata": {
        "id": "EgLJGffy4vm0"
      },
      "execution_count": null,
      "outputs": []
    },
    {
      "cell_type": "markdown",
      "source": [
        "#### 6. Rephrase Text"
      ],
      "metadata": {
        "id": "c49ITxTc407N"
      }
    },
    {
      "cell_type": "code",
      "source": [
        "# Rephrase Text"
      ],
      "metadata": {
        "id": "foqY80Qu48N2"
      },
      "execution_count": null,
      "outputs": []
    },
    {
      "cell_type": "markdown",
      "source": [
        "#### 7. Tokenization"
      ],
      "metadata": {
        "id": "OeJFEK0N496M"
      }
    },
    {
      "cell_type": "code",
      "source": [
        "# Tokenization"
      ],
      "metadata": {
        "id": "ijx1rUOS5CUU"
      },
      "execution_count": null,
      "outputs": []
    },
    {
      "cell_type": "markdown",
      "source": [
        "#### 8. Text Normalization"
      ],
      "metadata": {
        "id": "9ExmJH0g5HBk"
      }
    },
    {
      "cell_type": "code",
      "source": [
        "# Normalizing Text (i.e., Stemming, Lemmatization etc.)"
      ],
      "metadata": {
        "id": "AIJ1a-Zc5PY8"
      },
      "execution_count": null,
      "outputs": []
    },
    {
      "cell_type": "markdown",
      "source": [
        "##### Which text normalization technique have you used and why?"
      ],
      "metadata": {
        "id": "cJNqERVU536h"
      }
    },
    {
      "cell_type": "markdown",
      "source": [],
      "metadata": {
        "id": "Z9jKVxE06BC1"
      }
    },
    {
      "cell_type": "markdown",
      "source": [
        "#### 9. Part of speech tagging"
      ],
      "metadata": {
        "id": "k5UmGsbsOxih"
      }
    },
    {
      "cell_type": "code",
      "source": [
        "# POS Taging"
      ],
      "metadata": {
        "id": "btT3ZJBAO6Ik"
      },
      "execution_count": null,
      "outputs": []
    },
    {
      "cell_type": "markdown",
      "source": [
        "#### 10. Text Vectorization"
      ],
      "metadata": {
        "id": "T0VqWOYE6DLQ"
      }
    },
    {
      "cell_type": "code",
      "source": [
        "# Vectorizing Text"
      ],
      "metadata": {
        "id": "yBRtdhth6JDE"
      },
      "execution_count": null,
      "outputs": []
    },
    {
      "cell_type": "markdown",
      "source": [
        "##### Which text vectorization technique have you used and why?"
      ],
      "metadata": {
        "id": "qBMux9mC6MCf"
      }
    },
    {
      "cell_type": "markdown",
      "source": [],
      "metadata": {
        "id": "su2EnbCh6UKQ"
      }
    },
    {
      "cell_type": "markdown",
      "source": [
        "### 4. Feature Manipulation & Selection"
      ],
      "metadata": {
        "id": "-oLEiFgy-5Pf"
      }
    },
    {
      "cell_type": "markdown",
      "source": [
        "#### 1. Feature Manipulation"
      ],
      "metadata": {
        "id": "C74aWNz2AliB"
      }
    },
    {
      "cell_type": "code",
      "source": [
        "# Manipulate Features to minimize feature correlation and create new features"
      ],
      "metadata": {
        "id": "h1qC4yhBApWC"
      },
      "execution_count": null,
      "outputs": []
    },
    {
      "cell_type": "markdown",
      "source": [
        "#### 2. Feature Selection"
      ],
      "metadata": {
        "id": "2DejudWSA-a0"
      }
    },
    {
      "cell_type": "code",
      "source": [
        "# Select your features wisely to avoid overfitting"
      ],
      "metadata": {
        "id": "YLhe8UmaBCEE"
      },
      "execution_count": null,
      "outputs": []
    },
    {
      "cell_type": "markdown",
      "source": [
        "##### What all feature selection methods have you used  and why?"
      ],
      "metadata": {
        "id": "pEMng2IbBLp7"
      }
    },
    {
      "cell_type": "markdown",
      "source": [],
      "metadata": {
        "id": "rb2Lh6Z8BgGs"
      }
    },
    {
      "cell_type": "markdown",
      "source": [
        "##### Which all features you found important and why?"
      ],
      "metadata": {
        "id": "rAdphbQ9Bhjc"
      }
    },
    {
      "cell_type": "markdown",
      "source": [],
      "metadata": {
        "id": "fGgaEstsBnaf"
      }
    },
    {
      "cell_type": "markdown",
      "source": [
        "### 5. Data Transformation"
      ],
      "metadata": {
        "id": "TNVZ9zx19K6k"
      }
    },
    {
      "cell_type": "markdown",
      "source": [
        "#### Do you think that your data needs to be transformed? If yes, which transformation have you used. Explain Why?"
      ],
      "metadata": {
        "id": "nqoHp30x9hH9"
      }
    },
    {
      "cell_type": "code",
      "source": [
        "# Transform Your data"
      ],
      "metadata": {
        "id": "I6quWQ1T9rtH"
      },
      "execution_count": null,
      "outputs": []
    },
    {
      "cell_type": "markdown",
      "source": [
        "### 6. Data Scaling"
      ],
      "metadata": {
        "id": "rMDnDkt2B6du"
      }
    },
    {
      "cell_type": "code",
      "source": [
        "# Scaling your data"
      ],
      "metadata": {
        "id": "dL9LWpySC6x_"
      },
      "execution_count": null,
      "outputs": []
    },
    {
      "cell_type": "markdown",
      "source": [
        "##### Which method have you used to scale you data and why?"
      ],
      "metadata": {
        "id": "yiiVWRdJDDil"
      }
    },
    {
      "cell_type": "markdown",
      "source": [
        "### 7. Dimesionality Reduction"
      ],
      "metadata": {
        "id": "1UUpS68QDMuG"
      }
    },
    {
      "cell_type": "markdown",
      "source": [
        "##### Do you think that dimensionality reduction is needed? Explain Why?"
      ],
      "metadata": {
        "id": "kexQrXU-DjzY"
      }
    },
    {
      "cell_type": "markdown",
      "source": [],
      "metadata": {
        "id": "GGRlBsSGDtTQ"
      }
    },
    {
      "cell_type": "code",
      "source": [
        "# DImensionality Reduction (If needed)"
      ],
      "metadata": {
        "id": "kQfvxBBHDvCa"
      },
      "execution_count": null,
      "outputs": []
    },
    {
      "cell_type": "markdown",
      "source": [
        "##### Which dimensionality reduction technique have you used and why? (If dimensionality reduction done on dataset.)"
      ],
      "metadata": {
        "id": "T5CmagL3EC8N"
      }
    },
    {
      "cell_type": "markdown",
      "source": [],
      "metadata": {
        "id": "ZKr75IDuEM7t"
      }
    },
    {
      "cell_type": "markdown",
      "source": [
        "### 8. Data Splitting"
      ],
      "metadata": {
        "id": "BhH2vgX9EjGr"
      }
    },
    {
      "cell_type": "code",
      "source": [
        "# Split your data to train and test. Choose Splitting ratio wisely."
      ],
      "metadata": {
        "id": "0CTyd2UwEyNM"
      },
      "execution_count": null,
      "outputs": []
    },
    {
      "cell_type": "markdown",
      "source": [
        "##### What data splitting ratio have you used and why?"
      ],
      "metadata": {
        "id": "qjKvONjwE8ra"
      }
    },
    {
      "cell_type": "markdown",
      "source": [],
      "metadata": {
        "id": "Y2lJ8cobFDb_"
      }
    },
    {
      "cell_type": "markdown",
      "source": [
        "### 9. Handling Imbalanced Dataset"
      ],
      "metadata": {
        "id": "P1XJ9OREExlT"
      }
    },
    {
      "cell_type": "markdown",
      "source": [
        "##### Do you think the dataset is imbalanced? Explain Why."
      ],
      "metadata": {
        "id": "VFOzZv6IFROw"
      }
    },
    {
      "cell_type": "markdown",
      "source": [],
      "metadata": {
        "id": "GeKDIv7pFgcC"
      }
    },
    {
      "cell_type": "code",
      "source": [
        "# Handling Imbalanced Dataset (If needed)"
      ],
      "metadata": {
        "id": "nQsRhhZLFiDs"
      },
      "execution_count": null,
      "outputs": []
    },
    {
      "cell_type": "markdown",
      "source": [
        "##### What technique did you use to handle the imbalance dataset and why? (If needed to be balanced)"
      ],
      "metadata": {
        "id": "TIqpNgepFxVj"
      }
    },
    {
      "cell_type": "markdown",
      "source": [],
      "metadata": {
        "id": "qbet1HwdGDTz"
      }
    },
    {
      "cell_type": "markdown",
      "source": [
        "## ***7. ML Model Implementation***"
      ],
      "metadata": {
        "id": "VfCC591jGiD4"
      }
    },
    {
      "cell_type": "markdown",
      "source": [
        "### ML Model - 1"
      ],
      "metadata": {
        "id": "OB4l2ZhMeS1U"
      }
    },
    {
      "cell_type": "code",
      "source": [
        "# ML Model - 1 Implementation\n",
        "\n",
        "# Fit the Algorithm\n",
        "\n",
        "# Predict on the model"
      ],
      "metadata": {
        "id": "7ebyywQieS1U"
      },
      "execution_count": null,
      "outputs": []
    },
    {
      "cell_type": "markdown",
      "source": [
        "#### 1. Explain the ML Model used and it's performance using Evaluation metric Score Chart."
      ],
      "metadata": {
        "id": "ArJBuiUVfxKd"
      }
    },
    {
      "cell_type": "code",
      "source": [
        "# Visualizing evaluation Metric Score chart"
      ],
      "metadata": {
        "id": "rqD5ZohzfxKe"
      },
      "execution_count": null,
      "outputs": []
    },
    {
      "cell_type": "markdown",
      "source": [
        "#### 2. Cross- Validation & Hyperparameter Tuning"
      ],
      "metadata": {
        "id": "4qY1EAkEfxKe"
      }
    },
    {
      "cell_type": "code",
      "source": [
        "# ML Model - 1 Implementation with hyperparameter optimization techniques (i.e., GridSearch CV, RandomSearch CV, Bayesian Optimization etc.)\n",
        "\n",
        "# Fit the Algorithm\n",
        "\n",
        "# Predict on the model"
      ],
      "metadata": {
        "id": "Dy61ujd6fxKe"
      },
      "execution_count": null,
      "outputs": []
    },
    {
      "cell_type": "markdown",
      "source": [
        "##### Which hyperparameter optimization technique have you used and why?"
      ],
      "metadata": {
        "id": "PiV4Ypx8fxKe"
      }
    },
    {
      "cell_type": "markdown",
      "source": [],
      "metadata": {
        "id": "negyGRa7fxKf"
      }
    },
    {
      "cell_type": "markdown",
      "source": [
        "##### Have you seen any improvement? Note down the improvement with updates Evaluation metric Score Chart."
      ],
      "metadata": {
        "id": "TfvqoZmBfxKf"
      }
    },
    {
      "cell_type": "markdown",
      "source": [],
      "metadata": {
        "id": "OaLui8CcfxKf"
      }
    },
    {
      "cell_type": "markdown",
      "source": [
        "### ML Model - 2"
      ],
      "metadata": {
        "id": "dJ2tPlVmpsJ0"
      }
    },
    {
      "cell_type": "markdown",
      "source": [
        "#### 1. Explain the ML Model used and it's performance using Evaluation metric Score Chart."
      ],
      "metadata": {
        "id": "JWYfwnehpsJ1"
      }
    },
    {
      "cell_type": "code",
      "source": [
        "# Visualizing evaluation Metric Score chart"
      ],
      "metadata": {
        "id": "yEl-hgQWpsJ1"
      },
      "execution_count": null,
      "outputs": []
    },
    {
      "cell_type": "markdown",
      "source": [
        "#### 2. Cross- Validation & Hyperparameter Tuning"
      ],
      "metadata": {
        "id": "-jK_YjpMpsJ2"
      }
    },
    {
      "cell_type": "code",
      "source": [
        "# ML Model - 1 Implementation with hyperparameter optimization techniques (i.e., GridSearch CV, RandomSearch CV, Bayesian Optimization etc.)\n",
        "\n",
        "# Fit the Algorithm\n",
        "\n",
        "# Predict on the model"
      ],
      "metadata": {
        "id": "Dn0EOfS6psJ2"
      },
      "execution_count": null,
      "outputs": []
    },
    {
      "cell_type": "markdown",
      "source": [
        "##### Which hyperparameter optimization technique have you used and why?"
      ],
      "metadata": {
        "id": "HAih1iBOpsJ2"
      }
    },
    {
      "cell_type": "markdown",
      "source": [],
      "metadata": {
        "id": "9kBgjYcdpsJ2"
      }
    },
    {
      "cell_type": "markdown",
      "source": [
        "##### Have you seen any improvement? Note down the improvement with updates Evaluation metric Score Chart."
      ],
      "metadata": {
        "id": "zVGeBEFhpsJ2"
      }
    },
    {
      "cell_type": "markdown",
      "source": [],
      "metadata": {
        "id": "74yRdG6UpsJ3"
      }
    },
    {
      "cell_type": "markdown",
      "source": [
        "#### 3. Explain each evaluation metric's indication towards business and the business impact pf the ML model used."
      ],
      "metadata": {
        "id": "bmKjuQ-FpsJ3"
      }
    },
    {
      "cell_type": "markdown",
      "source": [],
      "metadata": {
        "id": "BDKtOrBQpsJ3"
      }
    },
    {
      "cell_type": "markdown",
      "source": [
        "### ML Model - 3"
      ],
      "metadata": {
        "id": "Fze-IPXLpx6K"
      }
    },
    {
      "cell_type": "code",
      "source": [
        "# ML Model - 3 Implementation\n",
        "\n",
        "# Fit the Algorithm\n",
        "\n",
        "# Predict on the model"
      ],
      "metadata": {
        "id": "FFrSXAtrpx6M"
      },
      "execution_count": null,
      "outputs": []
    },
    {
      "cell_type": "markdown",
      "source": [
        "#### 1. Explain the ML Model used and it's performance using Evaluation metric Score Chart."
      ],
      "metadata": {
        "id": "7AN1z2sKpx6M"
      }
    },
    {
      "cell_type": "code",
      "source": [
        "# Visualizing evaluation Metric Score chart"
      ],
      "metadata": {
        "id": "xIY4lxxGpx6M"
      },
      "execution_count": null,
      "outputs": []
    },
    {
      "cell_type": "markdown",
      "source": [
        "#### 2. Cross- Validation & Hyperparameter Tuning"
      ],
      "metadata": {
        "id": "9PIHJqyupx6M"
      }
    },
    {
      "cell_type": "code",
      "source": [
        "# ML Model - 3 Implementation with hyperparameter optimization techniques (i.e., GridSearch CV, RandomSearch CV, Bayesian Optimization etc.)\n",
        "\n",
        "# Fit the Algorithm\n",
        "\n",
        "# Predict on the model"
      ],
      "metadata": {
        "id": "eSVXuaSKpx6M"
      },
      "execution_count": null,
      "outputs": []
    },
    {
      "cell_type": "markdown",
      "source": [
        "##### Which hyperparameter optimization technique have you used and why?"
      ],
      "metadata": {
        "id": "_-qAgymDpx6N"
      }
    },
    {
      "cell_type": "markdown",
      "source": [],
      "metadata": {
        "id": "lQMffxkwpx6N"
      }
    },
    {
      "cell_type": "markdown",
      "source": [
        "##### Have you seen any improvement? Note down the improvement with updates Evaluation metric Score Chart."
      ],
      "metadata": {
        "id": "Z-hykwinpx6N"
      }
    },
    {
      "cell_type": "markdown",
      "source": [],
      "metadata": {
        "id": "MzVzZC6opx6N"
      }
    },
    {
      "cell_type": "markdown",
      "source": [
        "### 1. Which Evaluation metrics did you consider for a positive business impact and why?"
      ],
      "metadata": {
        "id": "h_CCil-SKHpo"
      }
    },
    {
      "cell_type": "markdown",
      "source": [],
      "metadata": {
        "id": "jHVz9hHDKFms"
      }
    },
    {
      "cell_type": "markdown",
      "source": [
        "### 2. Which ML model did you choose from the above created models as your final prediction model and why?"
      ],
      "metadata": {
        "id": "cBFFvTBNJzUa"
      }
    },
    {
      "cell_type": "markdown",
      "source": [],
      "metadata": {
        "id": "6ksF5Q1LKTVm"
      }
    },
    {
      "cell_type": "markdown",
      "source": [
        "### 3. Explain the model which you have used and the feature importance using any model explainability tool?"
      ],
      "metadata": {
        "id": "HvGl1hHyA_VK"
      }
    },
    {
      "cell_type": "markdown",
      "source": [],
      "metadata": {
        "id": "YnvVTiIxBL-C"
      }
    },
    {
      "cell_type": "markdown",
      "source": [
        "## ***8.*** ***Future Work (Optional)***"
      ],
      "metadata": {
        "id": "EyNgTHvd2WFk"
      }
    },
    {
      "cell_type": "markdown",
      "source": [
        "### 1. Save the best performing ml model in a pickle file or joblib file format for deployment process.\n"
      ],
      "metadata": {
        "id": "KH5McJBi2d8v"
      }
    },
    {
      "cell_type": "code",
      "source": [
        "# Save the File"
      ],
      "metadata": {
        "id": "bQIANRl32f4J"
      },
      "execution_count": null,
      "outputs": []
    },
    {
      "cell_type": "markdown",
      "source": [
        "### 2. Again Load the saved model file and try to predict unseen data for a sanity check.\n"
      ],
      "metadata": {
        "id": "iW_Lq9qf2h6X"
      }
    },
    {
      "cell_type": "code",
      "source": [
        "# Load the File and predict unseen data."
      ],
      "metadata": {
        "id": "oEXk9ydD2nVC"
      },
      "execution_count": null,
      "outputs": []
    },
    {
      "cell_type": "markdown",
      "source": [
        "### ***Congrats! Your model is successfully created and ready for deployment on a live server for a real user interaction !!!***"
      ],
      "metadata": {
        "id": "-Kee-DAl2viO"
      }
    },
    {
      "cell_type": "markdown",
      "source": [
        "# **Conclusion**"
      ],
      "metadata": {
        "id": "gCX9965dhzqZ"
      }
    },
    {
      "cell_type": "markdown",
      "source": [
        "Write the conclusion here."
      ],
      "metadata": {
        "id": "Fjb1IsQkh3yE"
      }
    },
    {
      "cell_type": "markdown",
      "source": [
        "### ***Hurrah! You have successfully completed your Machine Learning Capstone Project !!!***"
      ],
      "metadata": {
        "id": "gIfDvo9L0UH2"
      }
    }
  ]
}